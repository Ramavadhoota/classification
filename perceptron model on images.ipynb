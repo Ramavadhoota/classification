{
 "cells": [
  {
   "cell_type": "code",
   "execution_count": 19,
   "id": "0dc7b4a5-d27e-429e-a830-af3aa3c007c5",
   "metadata": {},
   "outputs": [
    {
     "name": "stdout",
     "output_type": "stream",
     "text": [
      "Requirement already satisfied: imbalanced-learn in c:\\users\\hegde\\anaconda3\\lib\\site-packages (0.12.3)\n",
      "Requirement already satisfied: numpy>=1.17.3 in c:\\users\\hegde\\anaconda3\\lib\\site-packages (from imbalanced-learn) (1.26.4)\n",
      "Requirement already satisfied: scipy>=1.5.0 in c:\\users\\hegde\\anaconda3\\lib\\site-packages (from imbalanced-learn) (1.13.1)\n",
      "Requirement already satisfied: scikit-learn>=1.0.2 in c:\\users\\hegde\\anaconda3\\lib\\site-packages (from imbalanced-learn) (1.4.2)\n",
      "Requirement already satisfied: joblib>=1.1.1 in c:\\users\\hegde\\anaconda3\\lib\\site-packages (from imbalanced-learn) (1.4.2)\n",
      "Requirement already satisfied: threadpoolctl>=2.0.0 in c:\\users\\hegde\\anaconda3\\lib\\site-packages (from imbalanced-learn) (2.2.0)\n",
      "Note: you may need to restart the kernel to use updated packages.\n"
     ]
    }
   ],
   "source": [
    "pip install imbalanced-learn"
   ]
  },
  {
   "cell_type": "markdown",
   "id": "412236ad-ad15-46d1-9d7f-5463e3f58299",
   "metadata": {},
   "source": [
    "The imbalanced-learn library provides a variety of tools to handle class imbalance issues in datasets, which is common in classification tasks. An imbalanced dataset may lead to models that perform poorly, particularly on the minority class."
   ]
  },
  {
   "cell_type": "code",
   "execution_count": null,
   "id": "891df25c-8dac-4a9e-a315-0d50a9922483",
   "metadata": {},
   "outputs": [],
   "source": [
    "import pandas as pd\n",
    "import numpy as np\n",
    "from sklearn.model_selection import train_test_split\n",
    "from sklearn.neural_network import MLPClassifier\n",
    "from sklearn.metrics import classification_report, accuracy_score\n",
    "from imblearn.over_sampling import SMOTE\n",
    "from sklearn.preprocessing import StandardScaler"
   ]
  },
  {
   "cell_type": "markdown",
   "id": "380d9c44-6273-4c28-ba35-081c254ca2e4",
   "metadata": {},
   "source": [
    "loading required libraries"
   ]
  },
  {
   "cell_type": "code",
   "execution_count": 29,
   "id": "35ba4bc8-67c7-42bc-b337-c165d62dc897",
   "metadata": {},
   "outputs": [],
   "source": [
    "df = pd.read_csv(r\"C:\\Users\\hegde\\OneDrive\\Desktop\\Dataset\\grayscale_images.csv\")"
   ]
  },
  {
   "cell_type": "code",
   "execution_count": 31,
   "id": "4b68f73c-dd3f-403f-b2f5-37686c4bd9dd",
   "metadata": {},
   "outputs": [],
   "source": [
    "X = df.drop(columns=['label']).values  \n",
    "scaler = StandardScaler()\n",
    "X = scaler.fit_transform(X)"
   ]
  },
  {
   "cell_type": "markdown",
   "id": "78418215-4688-4015-b048-6fc587da8bc5",
   "metadata": {},
   "source": [
    "After executing this code, the variable X will be a standardized NumPy array containing the feature data from the original DataFrame df. The target variable ('label') is excluded from this feature matrix.\n",
    "Standardizing the features is a common preprocessing step that can improve the performance of machine learning algorithms, particularly those sensitive to the scale of the input features, such as logistic regression, k-nearest neighbors, and support vector machines."
   ]
  },
  {
   "cell_type": "code",
   "execution_count": 4,
   "id": "894c2c98-86af-46c5-926e-611c81177ee6",
   "metadata": {},
   "outputs": [],
   "source": [
    "labels = ['apple frits', 'banana', 'bicycle', 'car', 'cat', \n",
    "          'elephant', 'mango frits', 'person', 'pizza', 'tiger', \n",
    "          'train', 'truck']"
   ]
  },
  {
   "cell_type": "markdown",
   "id": "9e47dd94-7203-40d7-a792-cfd234c4eff0",
   "metadata": {},
   "source": [
    "different types of labels of images"
   ]
  },
  {
   "cell_type": "code",
   "execution_count": 35,
   "id": "fd85b6fb-3b79-41cf-a0a7-d44837b392de",
   "metadata": {},
   "outputs": [],
   "source": [
    "results = {}"
   ]
  },
  {
   "cell_type": "code",
   "execution_count": 45,
   "id": "86a46389-f41b-412c-bbee-751e1e663b64",
   "metadata": {},
   "outputs": [],
   "source": [
    "for label in labels:\n",
    "    y = np.where(df['label'] == label, 1, 0)    \n",
    "    X_train, X_test, y_train, y_test = train_test_split(X, y, test_size=0.3, random_state=42)\n",
    "    smote = SMOTE(random_state=42)\n",
    "    X_train_res, y_train_res = smote.fit_resample(X_train, y_train)\n",
    "    model = MLPClassifier(hidden_layer_sizes=(5,), activation='relu', max_iter=1000, random_state=42)\n",
    "    model.fit(X_train_res, y_train_res)\n",
    "    y_pred = model.predict(X_test)\n",
    "    report = classification_report(y_test, y_pred, output_dict=True)\n",
    "    accuracy = accuracy_score(y_test, y_pred)\n",
    "    results[label] = {\n",
    "        'precision': report['1']['precision'] if '1' in report else 0,\n",
    "        'recall': report['1']['recall'] if '1' in report else 0,\n",
    "        'f1-score': report['1']['f1-score'] if '1' in report else 0,\n",
    "        'accuracy': accuracy\n",
    "    }"
   ]
  },
  {
   "cell_type": "markdown",
   "id": "00d28010-182f-488e-a4e1-3535a4012830",
   "metadata": {},
   "source": [
    "This code effectively trains an MLP classifier for each label in a multi-label classification problem, handling class imbalance using SMOTE. The results are stored in a dictionary for later evaluation or reporting. This approach allows for better model performance on imbalanced datasets by ensuring that the classifier is exposed to enough examples of the minority class during training."
   ]
  },
  {
   "cell_type": "markdown",
   "id": "42fa9352-101e-4780-a5e8-6f3e22b88df9",
   "metadata": {},
   "source": [
    "Synthetic Minority Over-sampling Technique\n",
    "SMOTE is a resampling technique that generates synthetic examples of the minority class in an imbalanced dataset. Instead of simply duplicating existing instances of the minority class (which can lead to overfitting), SMOTE creates new instances by interpolating between existing ones.\n",
    "\n",
    "Identify Minority Class Instances:\n",
    "SMOTE first identifies the instances of the minority class in the dataset.\n",
    "Select Neighbors:\n",
    "For each instance of the minority class, SMOTE selects a certain number of its nearest neighbors (commonly using the Euclidean distance metric).\n",
    "Generate Synthetic Instances:\n",
    "It then generates synthetic instances by creating new examples along the line segments connecting the minority class instance to its selected neighbors.\n",
    "This is done by randomly selecting one of the neighbors and creating a new instance with a linear combination of the features of the instance and the selected neighbor.\n",
    "This process is repeated until the desired balance between classes is achieved.\n",
    "\n",
    "Many machine learning algorithms perform poorly when trained on imbalanced datasets because they tend to be biased towards the majority class. SMOTE helps to alleviate this issue by increasing the number of instances of the minority class."
   ]
  },
  {
   "cell_type": "code",
   "execution_count": 46,
   "id": "ee79bff2-4834-4e79-8ab0-a7460e003e74",
   "metadata": {},
   "outputs": [
    {
     "name": "stdout",
     "output_type": "stream",
     "text": [
      "Results for 'apple frits':\n",
      "  Precision: 0.15\n",
      "  Recall: 0.29\n",
      "  F1 Score: 0.20\n",
      "  Accuracy: 0.78\n",
      "\n",
      "Results for 'banana':\n",
      "  Precision: 0.17\n",
      "  Recall: 0.20\n",
      "  F1 Score: 0.18\n",
      "  Accuracy: 0.88\n",
      "\n",
      "Results for 'bicycle':\n",
      "  Precision: 0.00\n",
      "  Recall: 0.00\n",
      "  F1 Score: 0.00\n",
      "  Accuracy: 0.82\n",
      "\n",
      "Results for 'car':\n",
      "  Precision: 0.22\n",
      "  Recall: 0.29\n",
      "  F1 Score: 0.25\n",
      "  Accuracy: 0.84\n",
      "\n",
      "Results for 'cat':\n",
      "  Precision: 0.21\n",
      "  Recall: 0.50\n",
      "  F1 Score: 0.30\n",
      "  Accuracy: 0.81\n",
      "\n",
      "Results for 'elephant':\n",
      "  Precision: 0.67\n",
      "  Recall: 0.44\n",
      "  F1 Score: 0.53\n",
      "  Accuracy: 0.90\n",
      "\n",
      "Results for 'mango frits':\n",
      "  Precision: 0.08\n",
      "  Recall: 0.20\n",
      "  F1 Score: 0.11\n",
      "  Accuracy: 0.78\n",
      "\n",
      "Results for 'person':\n",
      "  Precision: 0.16\n",
      "  Recall: 0.60\n",
      "  F1 Score: 0.25\n",
      "  Accuracy: 0.75\n",
      "\n",
      "Results for 'pizza':\n",
      "  Precision: 0.17\n",
      "  Recall: 0.20\n",
      "  F1 Score: 0.18\n",
      "  Accuracy: 0.88\n",
      "\n",
      "Results for 'tiger':\n",
      "  Precision: 0.18\n",
      "  Recall: 0.29\n",
      "  F1 Score: 0.22\n",
      "  Accuracy: 0.81\n",
      "\n",
      "Results for 'train':\n",
      "  Precision: 0.33\n",
      "  Recall: 0.43\n",
      "  F1 Score: 0.38\n",
      "  Accuracy: 0.86\n",
      "\n",
      "Results for 'truck':\n",
      "  Precision: 0.25\n",
      "  Recall: 0.29\n",
      "  F1 Score: 0.27\n",
      "  Accuracy: 0.85\n",
      "\n"
     ]
    }
   ],
   "source": [
    "for label, metrics in results.items():\n",
    "    print(f\"Results for '{label}':\")\n",
    "    print(f\"  Precision: {metrics['precision']:.2f}\")\n",
    "    print(f\"  Recall: {metrics['recall']:.2f}\")\n",
    "    print(f\"  F1 Score: {metrics['f1-score']:.2f}\")\n",
    "    print(f\"  Accuracy: {metrics['accuracy']:.2f}\\n\")"
   ]
  },
  {
   "cell_type": "markdown",
   "id": "e3f663d3-83ee-4cf6-95f3-dacb3d765ee7",
   "metadata": {},
   "source": [
    "hidden layer with 5 nueron"
   ]
  },
  {
   "cell_type": "code",
   "execution_count": 49,
   "id": "20c99a1c-a891-449e-9eae-f0bb4bfab12c",
   "metadata": {},
   "outputs": [],
   "source": [
    "for label in labels:\n",
    "    y = np.where(df['label'] == label, 1, 0)    \n",
    "    X_train, X_test, y_train, y_test = train_test_split(X, y, test_size=0.3, random_state=42)\n",
    "    smote = SMOTE(random_state=42)\n",
    "    X_train_res, y_train_res = smote.fit_resample(X_train, y_train)\n",
    "    model = MLPClassifier(hidden_layer_sizes=(15,), activation='relu', max_iter=1000, random_state=42)\n",
    "    model.fit(X_train_res, y_train_res)\n",
    "    y_pred = model.predict(X_test)\n",
    "    report = classification_report(y_test, y_pred, output_dict=True)\n",
    "    accuracy = accuracy_score(y_test, y_pred)\n",
    "    results[label] = {\n",
    "        'precision': report['1']['precision'] if '1' in report else 0,\n",
    "        'recall': report['1']['recall'] if '1' in report else 0,\n",
    "        'f1-score': report['1']['f1-score'] if '1' in report else 0,\n",
    "        'accuracy': accuracy\n",
    "    }"
   ]
  },
  {
   "cell_type": "markdown",
   "id": "eb808d35-8a82-4fdd-acc6-7ec7d60803d1",
   "metadata": {},
   "source": [
    "hidde layer with 15 neurons"
   ]
  },
  {
   "cell_type": "code",
   "execution_count": 51,
   "id": "d966e0c1-456a-4341-8233-e92b0f91dfaa",
   "metadata": {},
   "outputs": [
    {
     "name": "stdout",
     "output_type": "stream",
     "text": [
      "Results for 'apple frits':\n",
      "  Precision: 0.50\n",
      "  Recall: 0.43\n",
      "  F1 Score: 0.46\n",
      "  Accuracy: 0.90\n",
      "\n",
      "Results for 'banana':\n",
      "  Precision: 0.20\n",
      "  Recall: 0.20\n",
      "  F1 Score: 0.20\n",
      "  Accuracy: 0.89\n",
      "\n",
      "Results for 'bicycle':\n",
      "  Precision: 0.00\n",
      "  Recall: 0.00\n",
      "  F1 Score: 0.00\n",
      "  Accuracy: 0.90\n",
      "\n",
      "Results for 'car':\n",
      "  Precision: 0.00\n",
      "  Recall: 0.00\n",
      "  F1 Score: 0.00\n",
      "  Accuracy: 0.85\n",
      "\n",
      "Results for 'cat':\n",
      "  Precision: 0.14\n",
      "  Recall: 0.17\n",
      "  F1 Score: 0.15\n",
      "  Accuracy: 0.85\n",
      "\n",
      "Results for 'elephant':\n",
      "  Precision: 0.60\n",
      "  Recall: 0.33\n",
      "  F1 Score: 0.43\n",
      "  Accuracy: 0.89\n",
      "\n",
      "Results for 'mango frits':\n",
      "  Precision: 0.25\n",
      "  Recall: 0.20\n",
      "  F1 Score: 0.22\n",
      "  Accuracy: 0.90\n",
      "\n",
      "Results for 'person':\n",
      "  Precision: 0.15\n",
      "  Recall: 0.40\n",
      "  F1 Score: 0.22\n",
      "  Accuracy: 0.81\n",
      "\n",
      "Results for 'pizza':\n",
      "  Precision: 0.17\n",
      "  Recall: 0.20\n",
      "  F1 Score: 0.18\n",
      "  Accuracy: 0.88\n",
      "\n",
      "Results for 'tiger':\n",
      "  Precision: 0.40\n",
      "  Recall: 0.29\n",
      "  F1 Score: 0.33\n",
      "  Accuracy: 0.89\n",
      "\n",
      "Results for 'train':\n",
      "  Precision: 0.50\n",
      "  Recall: 0.43\n",
      "  F1 Score: 0.46\n",
      "  Accuracy: 0.90\n",
      "\n",
      "Results for 'truck':\n",
      "  Precision: 0.40\n",
      "  Recall: 0.29\n",
      "  F1 Score: 0.33\n",
      "  Accuracy: 0.89\n",
      "\n"
     ]
    }
   ],
   "source": [
    "for label, metrics in results.items():\n",
    "    print(f\"Results for '{label}':\")\n",
    "    print(f\"  Precision: {metrics['precision']:.2f}\")\n",
    "    print(f\"  Recall: {metrics['recall']:.2f}\")\n",
    "    print(f\"  F1 Score: {metrics['f1-score']:.2f}\")\n",
    "    print(f\"  Accuracy: {metrics['accuracy']:.2f}\\n\")"
   ]
  },
  {
   "cell_type": "code",
   "execution_count": 53,
   "id": "485457d0-9599-4d93-aa2a-3fab60fefd39",
   "metadata": {},
   "outputs": [],
   "source": [
    "for label in labels:\n",
    "    y = np.where(df['label'] == label, 1, 0)    \n",
    "    X_train, X_test, y_train, y_test = train_test_split(X, y, test_size=0.3, random_state=42)\n",
    "    smote = SMOTE(random_state=42)\n",
    "    X_train_res, y_train_res = smote.fit_resample(X_train, y_train)\n",
    "    model = MLPClassifier(hidden_layer_sizes=(20,), activation='relu', max_iter=1000, random_state=42)\n",
    "    model.fit(X_train_res, y_train_res)\n",
    "    y_pred = model.predict(X_test)\n",
    "    report = classification_report(y_test, y_pred, output_dict=True)\n",
    "    accuracy = accuracy_score(y_test, y_pred)\n",
    "    results[label] = {\n",
    "        'precision': report['1']['precision'] if '1' in report else 0,\n",
    "        'recall': report['1']['recall'] if '1' in report else 0,\n",
    "        'f1-score': report['1']['f1-score'] if '1' in report else 0,\n",
    "        'accuracy': accuracy\n",
    "    }"
   ]
  },
  {
   "cell_type": "markdown",
   "id": "6735e76d-4f48-4a51-ae6e-5b0b863fa302",
   "metadata": {},
   "source": [
    "hidden layer with 20 neurons"
   ]
  },
  {
   "cell_type": "code",
   "execution_count": 55,
   "id": "8dcaf46d-469d-4dd1-ab5a-612d0e4cce54",
   "metadata": {},
   "outputs": [
    {
     "name": "stdout",
     "output_type": "stream",
     "text": [
      "Results for 'apple frits':\n",
      "  Precision: 0.33\n",
      "  Recall: 0.43\n",
      "  F1 Score: 0.38\n",
      "  Accuracy: 0.86\n",
      "\n",
      "Results for 'banana':\n",
      "  Precision: 0.33\n",
      "  Recall: 0.40\n",
      "  F1 Score: 0.36\n",
      "  Accuracy: 0.90\n",
      "\n",
      "Results for 'bicycle':\n",
      "  Precision: 0.00\n",
      "  Recall: 0.00\n",
      "  F1 Score: 0.00\n",
      "  Accuracy: 0.90\n",
      "\n",
      "Results for 'car':\n",
      "  Precision: 0.33\n",
      "  Recall: 0.29\n",
      "  F1 Score: 0.31\n",
      "  Accuracy: 0.88\n",
      "\n",
      "Results for 'cat':\n",
      "  Precision: 0.00\n",
      "  Recall: 0.00\n",
      "  F1 Score: 0.00\n",
      "  Accuracy: 0.81\n",
      "\n",
      "Results for 'elephant':\n",
      "  Precision: 0.67\n",
      "  Recall: 0.22\n",
      "  F1 Score: 0.33\n",
      "  Accuracy: 0.89\n",
      "\n",
      "Results for 'mango frits':\n",
      "  Precision: 0.12\n",
      "  Recall: 0.20\n",
      "  F1 Score: 0.15\n",
      "  Accuracy: 0.85\n",
      "\n",
      "Results for 'person':\n",
      "  Precision: 0.17\n",
      "  Recall: 0.40\n",
      "  F1 Score: 0.24\n",
      "  Accuracy: 0.82\n",
      "\n",
      "Results for 'pizza':\n",
      "  Precision: 0.33\n",
      "  Recall: 0.40\n",
      "  F1 Score: 0.36\n",
      "  Accuracy: 0.90\n",
      "\n",
      "Results for 'tiger':\n",
      "  Precision: 0.14\n",
      "  Recall: 0.14\n",
      "  F1 Score: 0.14\n",
      "  Accuracy: 0.84\n",
      "\n",
      "Results for 'train':\n",
      "  Precision: 0.43\n",
      "  Recall: 0.43\n",
      "  F1 Score: 0.43\n",
      "  Accuracy: 0.89\n",
      "\n",
      "Results for 'truck':\n",
      "  Precision: 0.33\n",
      "  Recall: 0.29\n",
      "  F1 Score: 0.31\n",
      "  Accuracy: 0.88\n",
      "\n"
     ]
    }
   ],
   "source": [
    "for label, metrics in results.items():\n",
    "    print(f\"Results for '{label}':\")\n",
    "    print(f\"  Precision: {metrics['precision']:.2f}\")\n",
    "    print(f\"  Recall: {metrics['recall']:.2f}\")\n",
    "    print(f\"  F1 Score: {metrics['f1-score']:.2f}\")\n",
    "    print(f\"  Accuracy: {metrics['accuracy']:.2f}\\n\")"
   ]
  },
  {
   "cell_type": "markdown",
   "id": "855818ce-76c4-47d1-81dd-1546e0909a48",
   "metadata": {},
   "source": [
    "In this percepttron model we  ca obser that as the neurons are increasing in no. there is a increament in the resulte also like in accuracy, preccession ,recall and f1-score. but we also can observe some patterns that the neurons might have an threshold value for this kind of model \n",
    "in 15 neuron model work more better than the 5 neuron and 20 neuron model. so which leads to an idea about there will be axistance of threshold value for neurons"
   ]
  },
  {
   "cell_type": "code",
   "execution_count": null,
   "id": "0f9d7141-706d-4fb7-bb98-faa91cf20913",
   "metadata": {},
   "outputs": [],
   "source": []
  }
 ],
 "metadata": {
  "kernelspec": {
   "display_name": "Python 3 (ipykernel)",
   "language": "python",
   "name": "python3"
  },
  "language_info": {
   "codemirror_mode": {
    "name": "ipython",
    "version": 3
   },
   "file_extension": ".py",
   "mimetype": "text/x-python",
   "name": "python",
   "nbconvert_exporter": "python",
   "pygments_lexer": "ipython3",
   "version": "3.12.4"
  }
 },
 "nbformat": 4,
 "nbformat_minor": 5
}
